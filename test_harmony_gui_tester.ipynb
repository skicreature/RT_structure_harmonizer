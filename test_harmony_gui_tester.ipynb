import unittest

class TestHarmonyGui(unittest.TestCase):
    def test_roi_dict_size(self):
        roi_dict_size = len(harmonizer.roi_dict)
        self.assertEqual(roi_dict_size,
3555)

    def test_TG263_dict_size(self):
        TG263_dict_size = len(harmonizer.TG263_data_dict)
        self.assertEqual(TG263_dict_size,
717)

if __name__ == '__main__':
    unittest.main()